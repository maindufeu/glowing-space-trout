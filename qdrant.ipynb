{
 "cells": [
  {
   "cell_type": "markdown",
   "metadata": {},
   "source": [
    "# Búsqueda de similaridad de alta velocidad con RUST Qdrant"
   ]
  },
  {
   "cell_type": "code",
   "execution_count": 6,
   "metadata": {},
   "outputs": [],
   "source": [
    "from qdrant_client import QdrantClient\n",
    "from qdrant_client.http import models\n",
    "import numpy as np\n",
    "from faker import Faker"
   ]
  },
  {
   "cell_type": "code",
   "execution_count": 4,
   "metadata": {},
   "outputs": [],
   "source": [
    "client = QdrantClient(host=\"localhost\", port=6333)"
   ]
  },
  {
   "cell_type": "code",
   "execution_count": 8,
   "metadata": {},
   "outputs": [
    {
     "data": {
      "text/plain": [
       "True"
      ]
     },
     "execution_count": 8,
     "metadata": {},
     "output_type": "execute_result"
    }
   ],
   "source": [
    "my_collection = \"first_collection\"\n",
    "client .create_collection(collection_name=my_collection,\n",
    "                          vectors_config=models.VectorParams(size=100, distance=models.Distance.COSINE))"
   ]
  },
  {
   "cell_type": "code",
   "execution_count": 10,
   "metadata": {},
   "outputs": [],
   "source": [
    "data = np.random.uniform(low=-1.0, high=1.0, size=(1_000, 100))\n",
    "index = list(range(1_000))"
   ]
  },
  {
   "cell_type": "code",
   "execution_count": 11,
   "metadata": {},
   "outputs": [
    {
     "data": {
      "text/plain": [
       "array([[ 0.2461217 ,  0.7663252 , -0.70202949, -0.20441976, -0.62032778,\n",
       "        -0.14336946, -0.70156404,  0.4616521 , -0.29499437, -0.65985848],\n",
       "       [ 0.56516396, -0.348281  ,  0.4445421 , -0.81619002,  0.87291845,\n",
       "         0.62688332, -0.05266952, -0.69666567,  0.46402172,  0.34931551]])"
      ]
     },
     "execution_count": 11,
     "metadata": {},
     "output_type": "execute_result"
    }
   ],
   "source": [
    "data[:2, :10]"
   ]
  },
  {
   "cell_type": "code",
   "execution_count": 12,
   "metadata": {},
   "outputs": [
    {
     "data": {
      "text/plain": [
       "[990, 991, 992, 993, 994, 995, 996, 997, 998, 999]"
      ]
     },
     "execution_count": 12,
     "metadata": {},
     "output_type": "execute_result"
    }
   ],
   "source": [
    "index[-10:]"
   ]
  },
  {
   "cell_type": "code",
   "execution_count": 13,
   "metadata": {},
   "outputs": [
    {
     "data": {
      "text/plain": [
       "UpdateResult(operation_id=0, status=<UpdateStatus.COMPLETED: 'completed'>)"
      ]
     },
     "execution_count": 13,
     "metadata": {},
     "output_type": "execute_result"
    }
   ],
   "source": [
    "client.upsert(collection_name=my_collection,\n",
    "              points=models.Batch(\n",
    "                  ids=index,\n",
    "                  vectors=data.tolist()\n",
    "              ))"
   ]
  },
  {
   "cell_type": "code",
   "execution_count": 15,
   "metadata": {},
   "outputs": [
    {
     "data": {
      "text/plain": [
       "[Record(id=14, payload={}, vector=None),\n",
       " Record(id=500, payload={}, vector=None),\n",
       " Record(id=10, payload={}, vector=None)]"
      ]
     },
     "execution_count": 15,
     "metadata": {},
     "output_type": "execute_result"
    }
   ],
   "source": [
    "client.retrieve(collection_name=my_collection,\n",
    "                ids=[10,14, 500],\n",
    "                #with_vectors==True\n",
    "                )"
   ]
  },
  {
   "cell_type": "code",
   "execution_count": 16,
   "metadata": {},
   "outputs": [
    {
     "data": {
      "text/plain": [
       "('Jasmine Trujillo', '46271 Thomas Roads Apt. 730\\nTerriborough, ID 29546')"
      ]
     },
     "execution_count": 16,
     "metadata": {},
     "output_type": "execute_result"
    }
   ],
   "source": [
    "fake_something = Faker()\n",
    "fake_something.name(), fake_something.address()"
   ]
  },
  {
   "cell_type": "code",
   "execution_count": 21,
   "metadata": {},
   "outputs": [
    {
     "data": {
      "text/plain": [
       "[{'artist': 'Billy Watkins',\n",
       "  'song': 'themselves above food',\n",
       "  'url_song': 'http://jones.info/',\n",
       "  'year': '2004',\n",
       "  'country': 'United States Virgin Islands'},\n",
       " {'artist': 'Judy Hogan',\n",
       "  'song': 'listen both listen',\n",
       "  'url_song': 'https://www.castillo-king.com/',\n",
       "  'year': '1975',\n",
       "  'country': 'Gambia'},\n",
       " {'artist': 'Elizabeth Cabrera',\n",
       "  'song': 'data sort factor',\n",
       "  'url_song': 'https://www.arnold.com/',\n",
       "  'year': '1974',\n",
       "  'country': 'Nauru'}]"
      ]
     },
     "execution_count": 21,
     "metadata": {},
     "output_type": "execute_result"
    }
   ],
   "source": [
    "payload = []\n",
    "\n",
    "for i in range(1_000):\n",
    "    payload.append(\n",
    "        {\n",
    "            \"artist\": fake_something.name(),\n",
    "            \"song\": \" \". join(fake_something.words()),\n",
    "            \"url_song\": fake_something.url(),\n",
    "            \"year\": fake_something.year(),\n",
    "            \"country\": fake_something.country(),\n",
    "\n",
    "        }\n",
    "    )\n",
    "\n",
    "payload[:3]"
   ]
  },
  {
   "cell_type": "code",
   "execution_count": 22,
   "metadata": {},
   "outputs": [
    {
     "data": {
      "text/plain": [
       "1000"
      ]
     },
     "execution_count": 22,
     "metadata": {},
     "output_type": "execute_result"
    }
   ],
   "source": [
    "len(payload)"
   ]
  },
  {
   "cell_type": "code",
   "execution_count": 23,
   "metadata": {},
   "outputs": [
    {
     "data": {
      "text/plain": [
       "UpdateResult(operation_id=1, status=<UpdateStatus.COMPLETED: 'completed'>)"
      ]
     },
     "execution_count": 23,
     "metadata": {},
     "output_type": "execute_result"
    }
   ],
   "source": [
    "client.upsert(collection_name=my_collection,\n",
    "              points=models.Batch(\n",
    "                  ids=index,\n",
    "                  vectors=data.tolist(),\n",
    "                  payloads=payload\n",
    "              )\n",
    "            )"
   ]
  },
  {
   "cell_type": "markdown",
   "metadata": {},
   "source": [
    "# Semantic Search"
   ]
  },
  {
   "cell_type": "code",
   "execution_count": 24,
   "metadata": {},
   "outputs": [
    {
     "data": {
      "text/plain": [
       "[-0.8955803772291822,\n",
       " -0.7364089806915362,\n",
       " 0.8467450930161904,\n",
       " 0.6438872783835188,\n",
       " 0.9156667403259193]"
      ]
     },
     "execution_count": 24,
     "metadata": {},
     "output_type": "execute_result"
    }
   ],
   "source": [
    "living_la_vida_loca = np.random.uniform(low=-1.0, high=1.0, size=(100)).tolist()\n",
    "living_la_vida_loca[:5]"
   ]
  },
  {
   "cell_type": "code",
   "execution_count": 25,
   "metadata": {},
   "outputs": [
    {
     "data": {
      "text/plain": [
       "[ScoredPoint(id=966, version=1, score=0.29277423, payload={'artist': 'Alison Gordon', 'country': 'Vanuatu', 'song': 'person away test', 'url_song': 'http://www.curry-kelly.com/', 'year': '1971'}, vector=None),\n",
       " ScoredPoint(id=146, version=1, score=0.28518134, payload={'artist': 'Jordan Adkins', 'country': 'Sri Lanka', 'song': 'yes else crime', 'url_song': 'https://leonard.net/', 'year': '2007'}, vector=None),\n",
       " ScoredPoint(id=577, version=1, score=0.2614239, payload={'artist': 'Adrian Lyons', 'country': 'Turkmenistan', 'song': 'forward game determine', 'url_song': 'https://chang.net/', 'year': '1984'}, vector=None),\n",
       " ScoredPoint(id=90, version=1, score=0.25654435, payload={'artist': 'Katie Marshall', 'country': 'Puerto Rico', 'song': 'compare across only', 'url_song': 'https://www.tran.com/', 'year': '2013'}, vector=None),\n",
       " ScoredPoint(id=749, version=1, score=0.25245646, payload={'artist': 'David Mejia', 'country': 'Svalbard & Jan Mayen Islands', 'song': 'money their bag', 'url_song': 'http://www.clark.info/', 'year': '1971'}, vector=None),\n",
       " ScoredPoint(id=733, version=1, score=0.25008056, payload={'artist': 'David Meza', 'country': 'Barbados', 'song': 'ask color must', 'url_song': 'https://reeves.com/', 'year': '1997'}, vector=None),\n",
       " ScoredPoint(id=516, version=1, score=0.23619355, payload={'artist': 'Joshua Miller', 'country': 'Moldova', 'song': 'yet house military', 'url_song': 'https://weiss.com/', 'year': '1998'}, vector=None),\n",
       " ScoredPoint(id=322, version=1, score=0.23312464, payload={'artist': 'Eric Landry', 'country': 'Suriname', 'song': 'anything follow race', 'url_song': 'https://www.mills.com/', 'year': '1991'}, vector=None),\n",
       " ScoredPoint(id=662, version=1, score=0.23280957, payload={'artist': 'Julia Smith', 'country': 'Guam', 'song': 'Republican skin soon', 'url_song': 'http://www.berry-beck.com/', 'year': '2018'}, vector=None),\n",
       " ScoredPoint(id=437, version=1, score=0.23094688, payload={'artist': 'Aaron Stuart', 'country': 'Saint Vincent and the Grenadines', 'song': 'north letter agent', 'url_song': 'https://gray-rhodes.com/', 'year': '1981'}, vector=None)]"
      ]
     },
     "execution_count": 25,
     "metadata": {},
     "output_type": "execute_result"
    }
   ],
   "source": [
    "client.search(\n",
    "    collection_name=my_collection,\n",
    "    query_vector=living_la_vida_loca,\n",
    "    limit=10\n",
    ")"
   ]
  },
  {
   "cell_type": "code",
   "execution_count": 26,
   "metadata": {},
   "outputs": [],
   "source": [
    "aussie_songs = models.Filter(\n",
    "    must = [\n",
    "        models.FieldCondition(\n",
    "            key=\"country\",\n",
    "            match=models.MatchValue(value=\"Australia\")\n",
    "        )\n",
    "    ]\n",
    ")"
   ]
  },
  {
   "cell_type": "code",
   "execution_count": 27,
   "metadata": {},
   "outputs": [
    {
     "data": {
      "text/plain": [
       "[ScoredPoint(id=722, version=1, score=0.109172136, payload={'artist': 'Elizabeth White', 'country': 'Australia', 'song': 'thank father social', 'url_song': 'https://www.mueller-davis.com/', 'year': '1973'}, vector=None),\n",
       " ScoredPoint(id=170, version=1, score=-0.0061663766, payload={'artist': 'Danielle Matthews', 'country': 'Australia', 'song': 'eat project matter', 'url_song': 'http://anderson.com/', 'year': '2019'}, vector=None),\n",
       " ScoredPoint(id=94, version=1, score=-0.013421139, payload={'artist': 'Rebecca Patterson', 'country': 'Australia', 'song': 'than I travel', 'url_song': 'https://www.howell.com/', 'year': '2004'}, vector=None)]"
      ]
     },
     "execution_count": 27,
     "metadata": {},
     "output_type": "execute_result"
    }
   ],
   "source": [
    "client.search(\n",
    "    collection_name=my_collection,\n",
    "    query_vector=living_la_vida_loca,\n",
    "    query_filter=aussie_songs,\n",
    "    limit=3\n",
    ")"
   ]
  },
  {
   "cell_type": "code",
   "execution_count": null,
   "metadata": {},
   "outputs": [],
   "source": []
  }
 ],
 "metadata": {
  "kernelspec": {
   "display_name": "Python 3",
   "language": "python",
   "name": "python3"
  },
  "language_info": {
   "codemirror_mode": {
    "name": "ipython",
    "version": 3
   },
   "file_extension": ".py",
   "mimetype": "text/x-python",
   "name": "python",
   "nbconvert_exporter": "python",
   "pygments_lexer": "ipython3",
   "version": "3.10.8"
  },
  "orig_nbformat": 4
 },
 "nbformat": 4,
 "nbformat_minor": 2
}
